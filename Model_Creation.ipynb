{
  "cells": [
    {
      "cell_type": "code",
      "execution_count": 26,
      "id": "88d67c13-1dca-451c-85d5-eb234183c342",
      "metadata": {
        "id": "88d67c13-1dca-451c-85d5-eb234183c342"
      },
      "outputs": [],
      "source": [
        "import numpy as np\n",
        "import pandas as pd\n",
        "import yfinance as yf\n",
        "from datetime import date\n",
        "import matplotlib.pyplot as plt\n",
        "\n",
        "from tensorflow import keras\n",
        "from keras.models import Sequential\n",
        "from keras.layers import Dense, Dropout, LSTM\n",
        "from sklearn.preprocessing import MinMaxScaler"
      ]
    },
    {
      "cell_type": "code",
      "execution_count": 27,
      "id": "f3bc102c-1442-4cae-9093-f77f2b7b7e0c",
      "metadata": {
        "colab": {
          "base_uri": "https://localhost:8080/",
          "height": 441
        },
        "id": "f3bc102c-1442-4cae-9093-f77f2b7b7e0c",
        "outputId": "ec3703c6-2f19-42e9-903b-6526581464e2"
      },
      "outputs": [
        {
          "output_type": "stream",
          "name": "stderr",
          "text": [
            "\r[*********************100%%**********************]  1 of 1 completed\n"
          ]
        },
        {
          "output_type": "execute_result",
          "data": {
            "text/plain": [
              "           Date        Open        High         Low       Close   Adj Close  \\\n",
              "0    2010-01-04    7.931429    7.961429    7.565714    7.640000    7.640000   \n",
              "1    2010-01-05    7.652857    7.657143    7.258571    7.358571    7.358571   \n",
              "2    2010-01-06    7.361429    7.672857    7.197143    7.617143    7.617143   \n",
              "3    2010-01-07    7.731429    7.757143    7.462857    7.485714    7.485714   \n",
              "4    2010-01-08    7.498571    7.742857    7.465714    7.614286    7.614286   \n",
              "...         ...         ...         ...         ...         ...         ...   \n",
              "3606 2024-05-02  556.020020  565.460022  555.590027  565.150024  565.150024   \n",
              "3607 2024-05-03  566.000000  580.260010  565.159973  579.340027  579.340027   \n",
              "3608 2024-05-06  581.820007  597.340027  580.250000  596.969971  596.969971   \n",
              "3609 2024-05-07  596.280029  606.049988  591.320007  606.000000  606.000000   \n",
              "3610 2024-05-08  601.630005  618.219971  601.630005  609.469971  609.469971   \n",
              "\n",
              "        Volume  \n",
              "0     17239600  \n",
              "1     23753100  \n",
              "2     23290400  \n",
              "3      9955400  \n",
              "4      8180900  \n",
              "...        ...  \n",
              "3606   3068200  \n",
              "3607   3307500  \n",
              "3608   3686300  \n",
              "3609   3614100  \n",
              "3610   3091900  \n",
              "\n",
              "[3611 rows x 7 columns]"
            ],
            "text/html": [
              "\n",
              "  <div id=\"df-4c43c6ef-13a4-4a47-a4e0-5134336c55c6\" class=\"colab-df-container\">\n",
              "    <div>\n",
              "<style scoped>\n",
              "    .dataframe tbody tr th:only-of-type {\n",
              "        vertical-align: middle;\n",
              "    }\n",
              "\n",
              "    .dataframe tbody tr th {\n",
              "        vertical-align: top;\n",
              "    }\n",
              "\n",
              "    .dataframe thead th {\n",
              "        text-align: right;\n",
              "    }\n",
              "</style>\n",
              "<table border=\"1\" class=\"dataframe\">\n",
              "  <thead>\n",
              "    <tr style=\"text-align: right;\">\n",
              "      <th></th>\n",
              "      <th>Date</th>\n",
              "      <th>Open</th>\n",
              "      <th>High</th>\n",
              "      <th>Low</th>\n",
              "      <th>Close</th>\n",
              "      <th>Adj Close</th>\n",
              "      <th>Volume</th>\n",
              "    </tr>\n",
              "  </thead>\n",
              "  <tbody>\n",
              "    <tr>\n",
              "      <th>0</th>\n",
              "      <td>2010-01-04</td>\n",
              "      <td>7.931429</td>\n",
              "      <td>7.961429</td>\n",
              "      <td>7.565714</td>\n",
              "      <td>7.640000</td>\n",
              "      <td>7.640000</td>\n",
              "      <td>17239600</td>\n",
              "    </tr>\n",
              "    <tr>\n",
              "      <th>1</th>\n",
              "      <td>2010-01-05</td>\n",
              "      <td>7.652857</td>\n",
              "      <td>7.657143</td>\n",
              "      <td>7.258571</td>\n",
              "      <td>7.358571</td>\n",
              "      <td>7.358571</td>\n",
              "      <td>23753100</td>\n",
              "    </tr>\n",
              "    <tr>\n",
              "      <th>2</th>\n",
              "      <td>2010-01-06</td>\n",
              "      <td>7.361429</td>\n",
              "      <td>7.672857</td>\n",
              "      <td>7.197143</td>\n",
              "      <td>7.617143</td>\n",
              "      <td>7.617143</td>\n",
              "      <td>23290400</td>\n",
              "    </tr>\n",
              "    <tr>\n",
              "      <th>3</th>\n",
              "      <td>2010-01-07</td>\n",
              "      <td>7.731429</td>\n",
              "      <td>7.757143</td>\n",
              "      <td>7.462857</td>\n",
              "      <td>7.485714</td>\n",
              "      <td>7.485714</td>\n",
              "      <td>9955400</td>\n",
              "    </tr>\n",
              "    <tr>\n",
              "      <th>4</th>\n",
              "      <td>2010-01-08</td>\n",
              "      <td>7.498571</td>\n",
              "      <td>7.742857</td>\n",
              "      <td>7.465714</td>\n",
              "      <td>7.614286</td>\n",
              "      <td>7.614286</td>\n",
              "      <td>8180900</td>\n",
              "    </tr>\n",
              "    <tr>\n",
              "      <th>...</th>\n",
              "      <td>...</td>\n",
              "      <td>...</td>\n",
              "      <td>...</td>\n",
              "      <td>...</td>\n",
              "      <td>...</td>\n",
              "      <td>...</td>\n",
              "      <td>...</td>\n",
              "    </tr>\n",
              "    <tr>\n",
              "      <th>3606</th>\n",
              "      <td>2024-05-02</td>\n",
              "      <td>556.020020</td>\n",
              "      <td>565.460022</td>\n",
              "      <td>555.590027</td>\n",
              "      <td>565.150024</td>\n",
              "      <td>565.150024</td>\n",
              "      <td>3068200</td>\n",
              "    </tr>\n",
              "    <tr>\n",
              "      <th>3607</th>\n",
              "      <td>2024-05-03</td>\n",
              "      <td>566.000000</td>\n",
              "      <td>580.260010</td>\n",
              "      <td>565.159973</td>\n",
              "      <td>579.340027</td>\n",
              "      <td>579.340027</td>\n",
              "      <td>3307500</td>\n",
              "    </tr>\n",
              "    <tr>\n",
              "      <th>3608</th>\n",
              "      <td>2024-05-06</td>\n",
              "      <td>581.820007</td>\n",
              "      <td>597.340027</td>\n",
              "      <td>580.250000</td>\n",
              "      <td>596.969971</td>\n",
              "      <td>596.969971</td>\n",
              "      <td>3686300</td>\n",
              "    </tr>\n",
              "    <tr>\n",
              "      <th>3609</th>\n",
              "      <td>2024-05-07</td>\n",
              "      <td>596.280029</td>\n",
              "      <td>606.049988</td>\n",
              "      <td>591.320007</td>\n",
              "      <td>606.000000</td>\n",
              "      <td>606.000000</td>\n",
              "      <td>3614100</td>\n",
              "    </tr>\n",
              "    <tr>\n",
              "      <th>3610</th>\n",
              "      <td>2024-05-08</td>\n",
              "      <td>601.630005</td>\n",
              "      <td>618.219971</td>\n",
              "      <td>601.630005</td>\n",
              "      <td>609.469971</td>\n",
              "      <td>609.469971</td>\n",
              "      <td>3091900</td>\n",
              "    </tr>\n",
              "  </tbody>\n",
              "</table>\n",
              "<p>3611 rows × 7 columns</p>\n",
              "</div>\n",
              "    <div class=\"colab-df-buttons\">\n",
              "\n",
              "  <div class=\"colab-df-container\">\n",
              "    <button class=\"colab-df-convert\" onclick=\"convertToInteractive('df-4c43c6ef-13a4-4a47-a4e0-5134336c55c6')\"\n",
              "            title=\"Convert this dataframe to an interactive table.\"\n",
              "            style=\"display:none;\">\n",
              "\n",
              "  <svg xmlns=\"http://www.w3.org/2000/svg\" height=\"24px\" viewBox=\"0 -960 960 960\">\n",
              "    <path d=\"M120-120v-720h720v720H120Zm60-500h600v-160H180v160Zm220 220h160v-160H400v160Zm0 220h160v-160H400v160ZM180-400h160v-160H180v160Zm440 0h160v-160H620v160ZM180-180h160v-160H180v160Zm440 0h160v-160H620v160Z\"/>\n",
              "  </svg>\n",
              "    </button>\n",
              "\n",
              "  <style>\n",
              "    .colab-df-container {\n",
              "      display:flex;\n",
              "      gap: 12px;\n",
              "    }\n",
              "\n",
              "    .colab-df-convert {\n",
              "      background-color: #E8F0FE;\n",
              "      border: none;\n",
              "      border-radius: 50%;\n",
              "      cursor: pointer;\n",
              "      display: none;\n",
              "      fill: #1967D2;\n",
              "      height: 32px;\n",
              "      padding: 0 0 0 0;\n",
              "      width: 32px;\n",
              "    }\n",
              "\n",
              "    .colab-df-convert:hover {\n",
              "      background-color: #E2EBFA;\n",
              "      box-shadow: 0px 1px 2px rgba(60, 64, 67, 0.3), 0px 1px 3px 1px rgba(60, 64, 67, 0.15);\n",
              "      fill: #174EA6;\n",
              "    }\n",
              "\n",
              "    .colab-df-buttons div {\n",
              "      margin-bottom: 4px;\n",
              "    }\n",
              "\n",
              "    [theme=dark] .colab-df-convert {\n",
              "      background-color: #3B4455;\n",
              "      fill: #D2E3FC;\n",
              "    }\n",
              "\n",
              "    [theme=dark] .colab-df-convert:hover {\n",
              "      background-color: #434B5C;\n",
              "      box-shadow: 0px 1px 3px 1px rgba(0, 0, 0, 0.15);\n",
              "      filter: drop-shadow(0px 1px 2px rgba(0, 0, 0, 0.3));\n",
              "      fill: #FFFFFF;\n",
              "    }\n",
              "  </style>\n",
              "\n",
              "    <script>\n",
              "      const buttonEl =\n",
              "        document.querySelector('#df-4c43c6ef-13a4-4a47-a4e0-5134336c55c6 button.colab-df-convert');\n",
              "      buttonEl.style.display =\n",
              "        google.colab.kernel.accessAllowed ? 'block' : 'none';\n",
              "\n",
              "      async function convertToInteractive(key) {\n",
              "        const element = document.querySelector('#df-4c43c6ef-13a4-4a47-a4e0-5134336c55c6');\n",
              "        const dataTable =\n",
              "          await google.colab.kernel.invokeFunction('convertToInteractive',\n",
              "                                                    [key], {});\n",
              "        if (!dataTable) return;\n",
              "\n",
              "        const docLinkHtml = 'Like what you see? Visit the ' +\n",
              "          '<a target=\"_blank\" href=https://colab.research.google.com/notebooks/data_table.ipynb>data table notebook</a>'\n",
              "          + ' to learn more about interactive tables.';\n",
              "        element.innerHTML = '';\n",
              "        dataTable['output_type'] = 'display_data';\n",
              "        await google.colab.output.renderOutput(dataTable, element);\n",
              "        const docLink = document.createElement('div');\n",
              "        docLink.innerHTML = docLinkHtml;\n",
              "        element.appendChild(docLink);\n",
              "      }\n",
              "    </script>\n",
              "  </div>\n",
              "\n",
              "\n",
              "<div id=\"df-23449bb4-bce5-485a-814c-c347b0d9739c\">\n",
              "  <button class=\"colab-df-quickchart\" onclick=\"quickchart('df-23449bb4-bce5-485a-814c-c347b0d9739c')\"\n",
              "            title=\"Suggest charts\"\n",
              "            style=\"display:none;\">\n",
              "\n",
              "<svg xmlns=\"http://www.w3.org/2000/svg\" height=\"24px\"viewBox=\"0 0 24 24\"\n",
              "     width=\"24px\">\n",
              "    <g>\n",
              "        <path d=\"M19 3H5c-1.1 0-2 .9-2 2v14c0 1.1.9 2 2 2h14c1.1 0 2-.9 2-2V5c0-1.1-.9-2-2-2zM9 17H7v-7h2v7zm4 0h-2V7h2v10zm4 0h-2v-4h2v4z\"/>\n",
              "    </g>\n",
              "</svg>\n",
              "  </button>\n",
              "\n",
              "<style>\n",
              "  .colab-df-quickchart {\n",
              "      --bg-color: #E8F0FE;\n",
              "      --fill-color: #1967D2;\n",
              "      --hover-bg-color: #E2EBFA;\n",
              "      --hover-fill-color: #174EA6;\n",
              "      --disabled-fill-color: #AAA;\n",
              "      --disabled-bg-color: #DDD;\n",
              "  }\n",
              "\n",
              "  [theme=dark] .colab-df-quickchart {\n",
              "      --bg-color: #3B4455;\n",
              "      --fill-color: #D2E3FC;\n",
              "      --hover-bg-color: #434B5C;\n",
              "      --hover-fill-color: #FFFFFF;\n",
              "      --disabled-bg-color: #3B4455;\n",
              "      --disabled-fill-color: #666;\n",
              "  }\n",
              "\n",
              "  .colab-df-quickchart {\n",
              "    background-color: var(--bg-color);\n",
              "    border: none;\n",
              "    border-radius: 50%;\n",
              "    cursor: pointer;\n",
              "    display: none;\n",
              "    fill: var(--fill-color);\n",
              "    height: 32px;\n",
              "    padding: 0;\n",
              "    width: 32px;\n",
              "  }\n",
              "\n",
              "  .colab-df-quickchart:hover {\n",
              "    background-color: var(--hover-bg-color);\n",
              "    box-shadow: 0 1px 2px rgba(60, 64, 67, 0.3), 0 1px 3px 1px rgba(60, 64, 67, 0.15);\n",
              "    fill: var(--button-hover-fill-color);\n",
              "  }\n",
              "\n",
              "  .colab-df-quickchart-complete:disabled,\n",
              "  .colab-df-quickchart-complete:disabled:hover {\n",
              "    background-color: var(--disabled-bg-color);\n",
              "    fill: var(--disabled-fill-color);\n",
              "    box-shadow: none;\n",
              "  }\n",
              "\n",
              "  .colab-df-spinner {\n",
              "    border: 2px solid var(--fill-color);\n",
              "    border-color: transparent;\n",
              "    border-bottom-color: var(--fill-color);\n",
              "    animation:\n",
              "      spin 1s steps(1) infinite;\n",
              "  }\n",
              "\n",
              "  @keyframes spin {\n",
              "    0% {\n",
              "      border-color: transparent;\n",
              "      border-bottom-color: var(--fill-color);\n",
              "      border-left-color: var(--fill-color);\n",
              "    }\n",
              "    20% {\n",
              "      border-color: transparent;\n",
              "      border-left-color: var(--fill-color);\n",
              "      border-top-color: var(--fill-color);\n",
              "    }\n",
              "    30% {\n",
              "      border-color: transparent;\n",
              "      border-left-color: var(--fill-color);\n",
              "      border-top-color: var(--fill-color);\n",
              "      border-right-color: var(--fill-color);\n",
              "    }\n",
              "    40% {\n",
              "      border-color: transparent;\n",
              "      border-right-color: var(--fill-color);\n",
              "      border-top-color: var(--fill-color);\n",
              "    }\n",
              "    60% {\n",
              "      border-color: transparent;\n",
              "      border-right-color: var(--fill-color);\n",
              "    }\n",
              "    80% {\n",
              "      border-color: transparent;\n",
              "      border-right-color: var(--fill-color);\n",
              "      border-bottom-color: var(--fill-color);\n",
              "    }\n",
              "    90% {\n",
              "      border-color: transparent;\n",
              "      border-bottom-color: var(--fill-color);\n",
              "    }\n",
              "  }\n",
              "</style>\n",
              "\n",
              "  <script>\n",
              "    async function quickchart(key) {\n",
              "      const quickchartButtonEl =\n",
              "        document.querySelector('#' + key + ' button');\n",
              "      quickchartButtonEl.disabled = true;  // To prevent multiple clicks.\n",
              "      quickchartButtonEl.classList.add('colab-df-spinner');\n",
              "      try {\n",
              "        const charts = await google.colab.kernel.invokeFunction(\n",
              "            'suggestCharts', [key], {});\n",
              "      } catch (error) {\n",
              "        console.error('Error during call to suggestCharts:', error);\n",
              "      }\n",
              "      quickchartButtonEl.classList.remove('colab-df-spinner');\n",
              "      quickchartButtonEl.classList.add('colab-df-quickchart-complete');\n",
              "    }\n",
              "    (() => {\n",
              "      let quickchartButtonEl =\n",
              "        document.querySelector('#df-23449bb4-bce5-485a-814c-c347b0d9739c button');\n",
              "      quickchartButtonEl.style.display =\n",
              "        google.colab.kernel.accessAllowed ? 'block' : 'none';\n",
              "    })();\n",
              "  </script>\n",
              "</div>\n",
              "    </div>\n",
              "  </div>\n"
            ],
            "application/vnd.google.colaboratory.intrinsic+json": {
              "type": "dataframe",
              "variable_name": "data",
              "summary": "{\n  \"name\": \"data\",\n  \"rows\": 3611,\n  \"fields\": [\n    {\n      \"column\": \"Date\",\n      \"properties\": {\n        \"dtype\": \"date\",\n        \"min\": \"2010-01-04 00:00:00\",\n        \"max\": \"2024-05-08 00:00:00\",\n        \"num_unique_values\": 3611,\n        \"samples\": [\n          \"2023-10-31 00:00:00\",\n          \"2013-01-09 00:00:00\",\n          \"2010-02-19 00:00:00\"\n        ],\n        \"semantic_type\": \"\",\n        \"description\": \"\"\n      }\n    },\n    {\n      \"column\": \"Open\",\n      \"properties\": {\n        \"dtype\": \"number\",\n        \"std\": 187.62007262276668,\n        \"min\": 6.960000038146973,\n        \"max\": 692.3499755859375,\n        \"num_unique_values\": 3460,\n        \"samples\": [\n          8.105713844299316,\n          31.112857818603516,\n          195.3800048828125\n        ],\n        \"semantic_type\": \"\",\n        \"description\": \"\"\n      }\n    },\n    {\n      \"column\": \"High\",\n      \"properties\": {\n        \"dtype\": \"number\",\n        \"std\": 190.16971794887942,\n        \"min\": 7.1785712242126465,\n        \"max\": 700.989990234375,\n        \"num_unique_values\": 3492,\n        \"samples\": [\n          31.90999984741211,\n          13.569999694824219,\n          52.66428756713867\n        ],\n        \"semantic_type\": \"\",\n        \"description\": \"\"\n      }\n    },\n    {\n      \"column\": \"Low\",\n      \"properties\": {\n        \"dtype\": \"number\",\n        \"std\": 184.93023267599332,\n        \"min\": 6.931428909301758,\n        \"max\": 686.0900268554688,\n        \"num_unique_values\": 3493,\n        \"samples\": [\n          216.0,\n          395.6199951171875,\n          481.57000732421875\n        ],\n        \"semantic_type\": \"\",\n        \"description\": \"\"\n      }\n    },\n    {\n      \"column\": \"Close\",\n      \"properties\": {\n        \"dtype\": \"number\",\n        \"std\": 187.57933703983835,\n        \"min\": 7.018570899963379,\n        \"max\": 691.6900024414062,\n        \"num_unique_values\": 3522,\n        \"samples\": [\n          288.29998779296875,\n          176.4199981689453,\n          384.3599853515625\n        ],\n        \"semantic_type\": \"\",\n        \"description\": \"\"\n      }\n    },\n    {\n      \"column\": \"Adj Close\",\n      \"properties\": {\n        \"dtype\": \"number\",\n        \"std\": 187.57933703983835,\n        \"min\": 7.018570899963379,\n        \"max\": 691.6900024414062,\n        \"num_unique_values\": 3522,\n        \"samples\": [\n          288.29998779296875,\n          176.4199981689453,\n          384.3599853515625\n        ],\n        \"semantic_type\": \"\",\n        \"description\": \"\"\n      }\n    },\n    {\n      \"column\": \"Volume\",\n      \"properties\": {\n        \"dtype\": \"number\",\n        \"std\": 19927866,\n        \"min\": 1144000,\n        \"max\": 315541800,\n        \"num_unique_values\": 3562,\n        \"samples\": [\n          6608600,\n          41696900,\n          3875200\n        ],\n        \"semantic_type\": \"\",\n        \"description\": \"\"\n      }\n    }\n  ]\n}"
            }
          },
          "metadata": {},
          "execution_count": 27
        }
      ],
      "source": [
        "symbol = 'NFLX'\n",
        "START = '2010-01-01'\n",
        "END = date.today().strftime(\"%Y-%m-%d\")\n",
        "\n",
        "data = yf.download(symbol, START, END)\n",
        "data.reset_index(inplace=True)\n",
        "data"
      ]
    },
    {
      "cell_type": "code",
      "execution_count": 28,
      "id": "fc840124-ef3e-40b0-9e74-aa5a174c4c50",
      "metadata": {
        "colab": {
          "base_uri": "https://localhost:8080/",
          "height": 522
        },
        "id": "fc840124-ef3e-40b0-9e74-aa5a174c4c50",
        "outputId": "4d73b414-38fb-4167-de8c-9209b7bcb69b"
      },
      "outputs": [
        {
          "output_type": "display_data",
          "data": {
            "text/plain": [
              "<Figure size 800x600 with 1 Axes>"
            ],
            "image/png": "[encoded data removed]"
          },
          "metadata": {}
        }
      ],
      "source": [
        "plt.figure(figsize=(8,6))\n",
        "plt.plot(data.Close)\n",
        "plt.show()"
      ]
    },
    {
      "cell_type": "code",
      "execution_count": 29,
      "id": "0ac073de-1a30-487c-a1f8-c809cbba06db",
      "metadata": {
        "id": "0ac073de-1a30-487c-a1f8-c809cbba06db"
      },
      "outputs": [],
      "source": [
        "data.dropna(inplace=True)"
      ]
    },
    {
      "cell_type": "code",
      "execution_count": 30,
      "id": "64246466-177b-46f9-b4eb-6ee5005bfd6b",
      "metadata": {
        "id": "64246466-177b-46f9-b4eb-6ee5005bfd6b"
      },
      "outputs": [],
      "source": [
        "data_train = pd.DataFrame(data.Close[0: int(len(data)*0.80)])\n",
        "data_test = pd.DataFrame(data.Close[int(len(data)*0.80): len(data)])"
      ]
    },
    {
      "cell_type": "code",
      "execution_count": 31,
      "id": "0f4c0b4b-2b5e-4f62-bd84-47a86ed3da3e",
      "metadata": {
        "colab": {
          "base_uri": "https://localhost:8080/"
        },
        "id": "0f4c0b4b-2b5e-4f62-bd84-47a86ed3da3e",
        "outputId": "6a754024-9eba-456d-8c9d-a7e448a96fe5"
      },
      "outputs": [
        {
          "output_type": "execute_result",
          "data": {
            "text/plain": [
              "2888"
            ]
          },
          "metadata": {},
          "execution_count": 31
        }
      ],
      "source": [
        "data_train.shape[0]"
      ]
    },
    {
      "cell_type": "code",
      "execution_count": 32,
      "id": "0a609554-633d-4edf-abc1-21bd874a3cd1",
      "metadata": {
        "colab": {
          "base_uri": "https://localhost:8080/"
        },
        "id": "0a609554-633d-4edf-abc1-21bd874a3cd1",
        "outputId": "d02b8e7a-dd17-45e3-8708-8a8bf798de2e"
      },
      "outputs": [
        {
          "output_type": "execute_result",
          "data": {
            "text/plain": [
              "723"
            ]
          },
          "metadata": {},
          "execution_count": 32
        }
      ],
      "source": [
        "data_test.shape[0]"
      ]
    },
    {
      "cell_type": "code",
      "execution_count": 33,
      "id": "d5144e93-eab7-479f-9fde-9bf8c5786dc6",
      "metadata": {
        "id": "d5144e93-eab7-479f-9fde-9bf8c5786dc6"
      },
      "outputs": [],
      "source": [
        "scaler = MinMaxScaler(feature_range=(0,1))"
      ]
    },
    {
      "cell_type": "code",
      "execution_count": 34,
      "id": "4c2793bd-1def-45f7-8fd2-9115eed1c2c1",
      "metadata": {
        "id": "4c2793bd-1def-45f7-8fd2-9115eed1c2c1"
      },
      "outputs": [],
      "source": [
        "data_train_scale = scaler.fit_transform(data_train)"
      ]
    },
    {
      "cell_type": "code",
      "execution_count": 35,
      "id": "d55d63c2-132a-40b5-9398-e576ceba14fd",
      "metadata": {
        "id": "d55d63c2-132a-40b5-9398-e576ceba14fd"
      },
      "outputs": [],
      "source": [
        "x = []\n",
        "y = []\n",
        "\n",
        "period = 50\n",
        "\n",
        "for i in range(period, data_train_scale.shape[0]):\n",
        "    x.append(data_train_scale[i-period:i])\n",
        "    y.append(data_train_scale[i,0])\n"
      ]
    },
    {
      "cell_type": "code",
      "execution_count": 36,
      "id": "998369e6-f1ad-4cf5-af58-0aa5b7aa315c",
      "metadata": {
        "id": "998369e6-f1ad-4cf5-af58-0aa5b7aa315c"
      },
      "outputs": [],
      "source": [
        "x, y = np.array(x), np.array(y)"
      ]
    },
    {
      "cell_type": "code",
      "execution_count": 37,
      "id": "14867cd4-c1ed-4cf9-b339-245bfaec0852",
      "metadata": {
        "id": "14867cd4-c1ed-4cf9-b339-245bfaec0852"
      },
      "outputs": [],
      "source": [
        "model = Sequential()\n",
        "model.add(LSTM(units = 50, activation = 'relu', return_sequences = True,\n",
        "               input_shape = ((x.shape[1],1))))\n",
        "model.add(Dropout(0.2))\n",
        "\n",
        "model.add(LSTM(units = 60, activation='relu', return_sequences = True))\n",
        "model.add(Dropout(0.3))\n",
        "\n",
        "model.add(LSTM(units = 80, activation = 'relu', return_sequences = True))\n",
        "model.add(Dropout(0.4))\n",
        "\n",
        "model.add(LSTM(units = 120, activation = 'relu'))\n",
        "model.add(Dropout(0.5))\n",
        "\n",
        "model.add(Dense(units =1))"
      ]
    },
    {
      "cell_type": "code",
      "execution_count": 38,
      "id": "c69edcc2-b11d-4702-8a6c-f6a6e677e79a",
      "metadata": {
        "id": "c69edcc2-b11d-4702-8a6c-f6a6e677e79a"
      },
      "outputs": [],
      "source": [
        "model.compile(optimizer = 'adam', loss = 'mean_squared_error')"
      ]
    },
    {
      "cell_type": "code",
      "execution_count": 39,
      "id": "f36e439a-0106-4108-9630-7cdd7e5428e4",
      "metadata": {
        "colab": {
          "base_uri": "https://localhost:8080/"
        },
        "id": "f36e439a-0106-4108-9630-7cdd7e5428e4",
        "outputId": "86c6fabf-bcc5-4059-a385-e0e4932b6e18"
      },
      "outputs": [
        {
          "output_type": "stream",
          "name": "stdout",
          "text": [
            "Epoch 1/50\n",
            "89/89 [==============================] - 17s 133ms/step - loss: 0.0314\n",
            "Epoch 2/50\n",
            "89/89 [==============================] - 12s 134ms/step - loss: 0.0058\n",
            "Epoch 3/50\n",
            "89/89 [==============================] - 12s 134ms/step - loss: 0.0056\n",
            "Epoch 4/50\n",
            "89/89 [==============================] - 12s 134ms/step - loss: 0.0048\n",
            "Epoch 5/50\n",
            "89/89 [==============================] - 11s 126ms/step - loss: 0.0043\n",
            "Epoch 6/50\n",
            "89/89 [==============================] - 12s 138ms/step - loss: 0.0042\n",
            "Epoch 7/50\n",
            "89/89 [==============================] - 12s 137ms/step - loss: 0.0037\n",
            "Epoch 8/50\n",
            "89/89 [==============================] - 14s 159ms/step - loss: 0.0035\n",
            "Epoch 9/50\n",
            "89/89 [==============================] - 12s 134ms/step - loss: 0.0039\n",
            "Epoch 10/50\n",
            "89/89 [==============================] - 12s 135ms/step - loss: 0.0035\n",
            "Epoch 11/50\n",
            "89/89 [==============================] - 13s 151ms/step - loss: 0.0035\n",
            "Epoch 12/50\n",
            "89/89 [==============================] - 13s 151ms/step - loss: 0.0035\n",
            "Epoch 13/50\n",
            "89/89 [==============================] - 11s 127ms/step - loss: 0.0032\n",
            "Epoch 14/50\n",
            "89/89 [==============================] - 11s 122ms/step - loss: 0.0033\n",
            "Epoch 15/50\n",
            "89/89 [==============================] - 13s 148ms/step - loss: 0.0032\n",
            "Epoch 16/50\n",
            "89/89 [==============================] - 12s 130ms/step - loss: 0.0030\n",
            "Epoch 17/50\n",
            "89/89 [==============================] - 12s 135ms/step - loss: 0.0030\n",
            "Epoch 18/50\n",
            "89/89 [==============================] - 12s 135ms/step - loss: 0.0029\n",
            "Epoch 19/50\n",
            "89/89 [==============================] - 12s 134ms/step - loss: 0.0026\n",
            "Epoch 20/50\n",
            "89/89 [==============================] - 12s 134ms/step - loss: 0.0032\n",
            "Epoch 21/50\n",
            "89/89 [==============================] - 11s 127ms/step - loss: 0.0027\n",
            "Epoch 22/50\n",
            "89/89 [==============================] - 11s 120ms/step - loss: 0.0027\n",
            "Epoch 23/50\n",
            "89/89 [==============================] - 12s 132ms/step - loss: 0.0034\n",
            "Epoch 24/50\n",
            "89/89 [==============================] - 12s 134ms/step - loss: 0.0027\n",
            "Epoch 25/50\n",
            "89/89 [==============================] - 12s 134ms/step - loss: 0.0025\n",
            "Epoch 26/50\n",
            "89/89 [==============================] - 12s 133ms/step - loss: 0.0027\n",
            "Epoch 27/50\n",
            "89/89 [==============================] - 12s 133ms/step - loss: 0.0025\n",
            "Epoch 28/50\n",
            "89/89 [==============================] - 12s 132ms/step - loss: 0.0026\n",
            "Epoch 29/50\n",
            "89/89 [==============================] - 10s 117ms/step - loss: 0.0025\n",
            "Epoch 30/50\n",
            "89/89 [==============================] - 12s 131ms/step - loss: 0.0030\n",
            "Epoch 31/50\n",
            "89/89 [==============================] - 12s 134ms/step - loss: 0.0025\n",
            "Epoch 32/50\n",
            "89/89 [==============================] - 12s 134ms/step - loss: 0.0024\n",
            "Epoch 33/50\n",
            "89/89 [==============================] - 14s 152ms/step - loss: 0.0024\n",
            "Epoch 34/50\n",
            "89/89 [==============================] - 12s 135ms/step - loss: 0.0024\n",
            "Epoch 35/50\n",
            "89/89 [==============================] - 12s 132ms/step - loss: 0.0022\n",
            "Epoch 36/50\n",
            "89/89 [==============================] - 12s 132ms/step - loss: 0.0026\n",
            "Epoch 37/50\n",
            "89/89 [==============================] - 11s 118ms/step - loss: 0.0025\n",
            "Epoch 38/50\n",
            "89/89 [==============================] - 12s 131ms/step - loss: 0.0022\n",
            "Epoch 39/50\n",
            "89/89 [==============================] - 12s 135ms/step - loss: 0.0025\n",
            "Epoch 40/50\n",
            "89/89 [==============================] - 12s 135ms/step - loss: 0.0024\n",
            "Epoch 41/50\n",
            "89/89 [==============================] - 12s 135ms/step - loss: 0.0024\n",
            "Epoch 42/50\n",
            "89/89 [==============================] - 12s 133ms/step - loss: 0.0025\n",
            "Epoch 43/50\n",
            "89/89 [==============================] - 12s 134ms/step - loss: 0.0025\n",
            "Epoch 44/50\n",
            "89/89 [==============================] - 10s 118ms/step - loss: 0.0023\n",
            "Epoch 45/50\n",
            "89/89 [==============================] - 12s 130ms/step - loss: 0.0024\n",
            "Epoch 46/50\n",
            "89/89 [==============================] - 12s 134ms/step - loss: 0.0022\n",
            "Epoch 47/50\n",
            "89/89 [==============================] - 12s 134ms/step - loss: 0.0022\n",
            "Epoch 48/50\n",
            "89/89 [==============================] - 12s 134ms/step - loss: 0.0025\n",
            "Epoch 49/50\n",
            "89/89 [==============================] - 12s 135ms/step - loss: 0.0024\n",
            "Epoch 50/50\n",
            "89/89 [==============================] - 12s 135ms/step - loss: 0.0022\n"
          ]
        },
        {
          "output_type": "execute_result",
          "data": {
            "text/plain": [
              "<keras.src.callbacks.History at 0x7a46a2020a90>"
            ]
          },
          "metadata": {},
          "execution_count": 39
        }
      ],
      "source": [
        "model.fit(x,y, epochs = 50, batch_size =32, verbose =1)"
      ]
    },
    {
      "cell_type": "code",
      "execution_count": 40,
      "id": "62f9decd-83a6-4c03-8963-dc3298b2a104",
      "metadata": {
        "colab": {
          "base_uri": "https://localhost:8080/"
        },
        "id": "62f9decd-83a6-4c03-8963-dc3298b2a104",
        "outputId": "301cab68-d7b0-4af5-fbe3-22563dc56c2b"
      },
      "outputs": [
        {
          "output_type": "stream",
          "name": "stdout",
          "text": [
            "Model: \"sequential_1\"\n",
            "_________________________________________________________________\n",
            " Layer (type)                Output Shape              Param #   \n",
            "=================================================================\n",
            " lstm_4 (LSTM)               (None, 50, 50)            10400     \n",
            "                                                                 \n",
            " dropout_4 (Dropout)         (None, 50, 50)            0         \n",
            "                                                                 \n",
            " lstm_5 (LSTM)               (None, 50, 60)            26640     \n",
            "                                                                 \n",
            " dropout_5 (Dropout)         (None, 50, 60)            0         \n",
            "                                                                 \n",
            " lstm_6 (LSTM)               (None, 50, 80)            45120     \n",
            "                                                                 \n",
            " dropout_6 (Dropout)         (None, 50, 80)            0         \n",
            "                                                                 \n",
            " lstm_7 (LSTM)               (None, 120)               96480     \n",
            "                                                                 \n",
            " dropout_7 (Dropout)         (None, 120)               0         \n",
            "                                                                 \n",
            " dense_1 (Dense)             (None, 1)                 121       \n",
            "                                                                 \n",
            "=================================================================\n",
            "Total params: 178761 (698.29 KB)\n",
            "Trainable params: 178761 (698.29 KB)\n",
            "Non-trainable params: 0 (0.00 Byte)\n",
            "_________________________________________________________________\n"
          ]
        }
      ],
      "source": [
        "model.summary()"
      ]
    },
    {
      "cell_type": "code",
      "source": [
        "model.save(f'Model_{period}.h5')"
      ],
      "metadata": {
        "colab": {
          "base_uri": "https://localhost:8080/"
        },
        "id": "4zpGfKJcntMd",
        "outputId": "7aea82fa-7ec4-4a2f-a343-bd2ba7a74f7f"
      },
      "id": "4zpGfKJcntMd",
      "execution_count": 41,
      "outputs": [
        {
          "output_type": "stream",
          "name": "stderr",
          "text": [
            "/usr/local/lib/python3.10/dist-packages/keras/src/engine/training.py:3103: UserWarning: You are saving your model as an HDF5 file via `model.save()`. This file format is considered legacy. We recommend using instead the native Keras format, e.g. `model.save('my_model.keras')`.\n",
            "  saving_api.save_model(\n"
          ]
        }
      ]
    },
    {
      "cell_type": "code",
      "execution_count": 42,
      "id": "89cf9dc7-4e14-4c80-82bc-d6dcac8c98a2",
      "metadata": {
        "id": "89cf9dc7-4e14-4c80-82bc-d6dcac8c98a2"
      },
      "outputs": [],
      "source": [
        "pas_n_days = data_train.tail(period)"
      ]
    },
    {
      "cell_type": "code",
      "execution_count": 43,
      "id": "67ef7a1e-63cc-4874-9b61-634026572822",
      "metadata": {
        "id": "67ef7a1e-63cc-4874-9b61-634026572822"
      },
      "outputs": [],
      "source": [
        "data_test = pd.concat([pas_n_days, data_test], ignore_index=True)"
      ]
    },
    {
      "cell_type": "code",
      "execution_count": 44,
      "id": "7a0512e4-0eaf-4137-b61d-8bb0e48ca041",
      "metadata": {
        "id": "7a0512e4-0eaf-4137-b61d-8bb0e48ca041"
      },
      "outputs": [],
      "source": [
        "data_test_scale  =  scaler.fit_transform(data_test)"
      ]
    },
    {
      "cell_type": "code",
      "execution_count": 45,
      "id": "536de9d0-2cc7-41dd-b500-affd3e3fec9d",
      "metadata": {
        "id": "536de9d0-2cc7-41dd-b500-affd3e3fec9d"
      },
      "outputs": [],
      "source": [
        "x = []\n",
        "y = []\n",
        "\n",
        "for i in range(period, data_test_scale.shape[0]):\n",
        "    x.append(data_test_scale[i-period:i])\n",
        "    y.append(data_test_scale[i,0])\n",
        "x, y = np.array(x), np.array(y)"
      ]
    },
    {
      "cell_type": "code",
      "execution_count": 46,
      "id": "4602f57f-8832-4bf6-a50e-bb5164ff7872",
      "metadata": {
        "colab": {
          "base_uri": "https://localhost:8080/"
        },
        "id": "4602f57f-8832-4bf6-a50e-bb5164ff7872",
        "outputId": "ac38a0e4-be6a-4a7e-981e-17a0a23f4bc4"
      },
      "outputs": [
        {
          "output_type": "stream",
          "name": "stdout",
          "text": [
            "23/23 [==============================] - 1s 36ms/step\n"
          ]
        }
      ],
      "source": [
        "y_predict = model.predict(x)"
      ]
    },
    {
      "cell_type": "code",
      "execution_count": 47,
      "id": "ca2d2d64-b69a-4eb3-b4f6-5356bfb5b74a",
      "metadata": {
        "id": "ca2d2d64-b69a-4eb3-b4f6-5356bfb5b74a"
      },
      "outputs": [],
      "source": [
        "scale =1/scaler.scale_"
      ]
    },
    {
      "cell_type": "code",
      "execution_count": 48,
      "id": "b3e3794a-785d-4ac8-96a3-70fab6259f1c",
      "metadata": {
        "id": "b3e3794a-785d-4ac8-96a3-70fab6259f1c"
      },
      "outputs": [],
      "source": [
        "y_predict = y_predict*scale"
      ]
    },
    {
      "cell_type": "code",
      "execution_count": 49,
      "id": "5acb458b-7488-4860-9ccd-8999d67510f7",
      "metadata": {
        "id": "5acb458b-7488-4860-9ccd-8999d67510f7"
      },
      "outputs": [],
      "source": [
        "y = y*scale"
      ]
    },
    {
      "cell_type": "code",
      "execution_count": 50,
      "id": "6ab280be-9494-4ea1-baf2-45fc38130366",
      "metadata": {
        "colab": {
          "base_uri": "https://localhost:8080/",
          "height": 696
        },
        "id": "6ab280be-9494-4ea1-baf2-45fc38130366",
        "outputId": "e1c312ca-f39b-4da2-8267-cd41fe87295d"
      },
      "outputs": [
        {
          "output_type": "display_data",
          "data": {
            "text/plain": [
              "<Figure size 1000x800 with 1 Axes>"
            ],
            "image/png": "[encoded data removed]"
          },
          "metadata": {}
        }
      ],
      "source": [
        "plt.figure(figsize=(10,8))\n",
        "plt.plot(y_predict, 'r', label = 'Predicted Price')\n",
        "plt.plot(y, 'g', label = 'Original Price')\n",
        "plt.xlabel('Time')\n",
        "plt.ylabel('Price')\n",
        "plt.legend()\n",
        "plt.show()"
      ]
    }
  ],
  "metadata": {
    "kernelspec": {
      "display_name": "Python 3 (ipykernel)",
      "language": "python",
      "name": "python3"
    },
    "language_info": {
      "codemirror_mode": {
        "name": "ipython",
        "version": 3
      },
      "file_extension": ".py",
      "mimetype": "text/x-python",
      "name": "python",
      "nbconvert_exporter": "python",
      "pygments_lexer": "ipython3",
      "version": "3.10.5"
    },
    "colab": {
      "provenance": []
    }
  },
  "nbformat": 4,
  "nbformat_minor": 5
}